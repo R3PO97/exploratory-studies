{
 "cells": [
  {
   "cell_type": "markdown",
   "metadata": {},
   "source": [
    "### Aquiring the Data\n",
    "\n",
    "Ok - so now I'm home - I've investigated a bit before arriving and I found very little information online regarding these CNBC 'Special Reports | Markets in Turmoil'. I was unable to find an episode list on IMBD or Wikipedia. Surprisingly, I was also unable to find it on the CNBC website either. \n",
    "\n",
    "I found a full list of episodes of 'Squawk on the Street' (the name of the podcast where these special reports are aired) on spotify, but spotify doesn't allow scraping and the raw data would have taken longer to clean as the special reports are mixed in with the usual programming and other types of specials.\n",
    "\n",
    "Furtunately I came across a podcast streaming website with a well built search and filter functionality, and no mention of scraping in their Terms and Conditions. So I got working on a scraper - see below.\n",
    "\n"
   ]
  },
  {
   "cell_type": "markdown",
   "metadata": {},
   "source": []
  }
 ],
 "metadata": {
  "language_info": {
   "name": "python"
  }
 },
 "nbformat": 4,
 "nbformat_minor": 2
}
